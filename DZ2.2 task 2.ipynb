{
 "cells": [
  {
   "cell_type": "code",
   "execution_count": null,
   "id": "ea66b347-444a-4959-8143-6d8e718a0f44",
   "metadata": {},
   "outputs": [],
   "source": [
    "# Вам необходимо написать программу, которая выведет на экран распределение количества слов в запросах в требуемом виде\n",
    "queries = [\n",
    "'смотреть сериалы онлайн',\n",
    "'новости спорта',\n",
    "'афиша кино',\n",
    "'курс доллара',\n",
    "'сериалы этим летом',\n",
    "'курс по питону',\n",
    "'сериалы про спорт',\n",
    "]\n",
    "\n",
    "two_words = 0 # обьявляем вспом.переменные\n",
    "three_words = 0\n",
    "\n",
    "for question_user in queries: # в цикле идем по элементам списка\n",
    "    if len(question_user.split()) % 2 == 0: # смотрим если в элементе четное кол-во слов\n",
    "        two_words +=1 # инкрементируем переменную для двух слов\n",
    "    else:\n",
    "        three_words +=1 # иначе инкрементируем переменную для трех слов\n",
    "print(f' Поисковых запросов, содержащих 2 слов(а): , {two_words/len(queries)*100:.2f}%') # считаем и выводим процетное соотнешение для использ. четного кол-ва слов\n",
    "print(f' Поисковых запросов, содержащих 3 слов(а): , {three_words/len(queries)*100:.2f}%') #считаем и выводим процетное соотнешение для использ. нечетного кол-ва слов"
   ]
  }
 ],
 "metadata": {
  "kernelspec": {
   "display_name": "Python 3 (ipykernel)",
   "language": "python",
   "name": "python3"
  },
  "language_info": {
   "codemirror_mode": {
    "name": "ipython",
    "version": 3
   },
   "file_extension": ".py",
   "mimetype": "text/x-python",
   "name": "python",
   "nbconvert_exporter": "python",
   "pygments_lexer": "ipython3",
   "version": "3.12.7"
  }
 },
 "nbformat": 4,
 "nbformat_minor": 5
}
