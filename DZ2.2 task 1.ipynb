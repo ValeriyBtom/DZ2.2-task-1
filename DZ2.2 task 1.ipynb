{
 "cells": [
  {
   "cell_type": "code",
   "execution_count": 1,
   "id": "c89611bb-4d99-4969-8a49-5e6f6752bb51",
   "metadata": {},
   "outputs": [
    {
     "name": "stdout",
     "output_type": "stream",
     "text": [
      "[213, 15, 54, 119, 98, 35]\n"
     ]
    }
   ],
   "source": [
    "# необходимо написать программу, которая выведет на экран множество уникальных гео-меток всех пользователей\n",
    "ids = {\n",
    "    'user1': [213, 213, 213, 15, 213],\n",
    "    'user2': [54, 54, 119, 119, 119],\n",
    "    'user3': [213, 98, 98, 35]\n",
    "}\n",
    "\n",
    "unique_values = [] # создаем пустой список уникальных значений\n",
    "\n",
    "for key_ids, values_ids in ids.items(): # методом item перебираем все ключи и значения в словаре\n",
    "    for values in values_ids: # проверяем каждое значение\n",
    "        if values not in unique_values: # если значения нет в списке уникальных значения\n",
    "            unique_values.append(values) # то добавляем значение в список\n",
    "        \n",
    "print(unique_values)\n",
    "        "
   ]
  },
  {
   "cell_type": "code",
   "execution_count": 2,
   "id": "e1804fa1-7fc4-47fb-9bfd-59d2db1eab08",
   "metadata": {},
   "outputs": [
    {
     "name": "stdout",
     "output_type": "stream",
     "text": [
      " Поисковых запросов, содержащих 2 слов(а): , 42.86%\n",
      " Поисковых запросов, содержащих 3 слов(а): , 57.14%\n"
     ]
    }
   ],
   "source": []
  },
  {
   "cell_type": "code",
   "execution_count": null,
   "id": "93f31e27-f46e-47a5-9aaa-4e303b53fc5a",
   "metadata": {},
   "outputs": [],
   "source": []
  }
 ],
 "metadata": {
  "kernelspec": {
   "display_name": "Python 3 (ipykernel)",
   "language": "python",
   "name": "python3"
  },
  "language_info": {
   "codemirror_mode": {
    "name": "ipython",
    "version": 3
   },
   "file_extension": ".py",
   "mimetype": "text/x-python",
   "name": "python",
   "nbconvert_exporter": "python",
   "pygments_lexer": "ipython3",
   "version": "3.12.7"
  }
 },
 "nbformat": 4,
 "nbformat_minor": 5
}
